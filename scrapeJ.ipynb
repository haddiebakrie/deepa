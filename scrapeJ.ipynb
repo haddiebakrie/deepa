{
 "cells": [
  {
   "cell_type": "code",
   "execution_count": 1,
   "metadata": {},
   "outputs": [],
   "source": [
    "import os\n",
    "import csv\n",
    "import glob\n",
    "from bs4 import BeautifulSoup as bs\n",
    "import requests"
   ]
  },
  {
   "cell_type": "code",
   "execution_count": 67,
   "metadata": {},
   "outputs": [],
   "source": [
    "name = 'jumia_bots'\n",
    "allowed_domains = ['jumia.com.ng']\n",
    "start_urls = ['https://www.jumia.com.ng/nike-air-max-zm950-womens-sneakers-79928181.html']\n",
    "\n"
   ]
  },
  {
   "cell_type": "code",
   "execution_count": 68,
   "metadata": {},
   "outputs": [],
   "source": [
    "req = requests.get(start_urls[0])\n"
   ]
  },
  {
   "cell_type": "code",
   "execution_count": 66,
   "metadata": {},
   "outputs": [
    {
     "name": "stdout",
     "output_type": "stream",
     "text": [
      "{'Product info': \"\\xa0ladies  loafy sandals shoe  loved by many over the years. The sandals is quite easy to clean and maintain. It lasts longer and brings out the beauty in you. Is an outdoor shoe that gives you a great look. Keeps you looking\\xa0 smart, sexy, spicy for that great new catch. #winks  From Ballerinas to  Flats , from Wedges to Court Shoes, \\nSandals and Slippers, women love Jumia's collection of trendy Shoes. \\nWhatever your taste is, Jumia has curated the best designs from all over\\n the world in the finest materials and nice colours. From season trends \\nto timeless fashion styles, the Jumia collection is always top notch, \\nmeeting all your needs from casual wear to all glammed up.  From Ballerinas to  Flats , from Wedges to Court Shoes, \\nSandals and Slippers, women love Jumia's collection of trendy Shoes. \\nWhatever your taste is, Jumia has curated the best designs from all over\\n the world in the finest materials and nice colours. From season trends \\nto timeless fashion styles, the Jumia collection is always top notch, \\nmeeting all your needs from casual wear to all glammed up.  From Ballerinas to  Flats , from Wedges to Court Shoes, \\nSandals and Slippers, women love Jumia's collection of trendy Shoes. \\nWhatever your taste is, Jumia has curated the best designs from all over\\n the world in the finest materials and nice colours. From season trends \\nto timeless fashion styles, the Jumia collection is always top notch, \\nmeeting all your needs from casual wear to all glammed up.  From Ballerinas to  Flats , from Wedges to Court Shoes, \\nSandals and Slippers, women love Jumia's collection of trendy Shoes. \\nWhatever your taste is, Jumia has curated the best designs from all over\\n the world in the finest materials and nice colours. From season trends \\nto timeless fashion styles, the Jumia collection is always top notch, \\nmeeting all your needs from casual wear to all glammed up.  From Ballerinas to  Flats , from Wedges to Court Shoes, \\nSandals and Slippers, women love Jumia's collection of trendy Shoes. \\nWhatever your taste is, Jumia has curated the best designs from all over\\n the world in the finest materials and nice colours. From season trends \\nto timeless fashion styles, the Jumia collection is always top notch, \\nmeeting all your needs from casual wear to all glammed up.  From Ballerinas to  Flats , from Wedges to Court Shoes, \\nSandals and Slippers, women love Jumia's collection of trendy Shoes. \\nWhatever your taste is, Jumia has curated the best designs from all over\\n the world in the finest materials and nice colours. From season trends \\nto timeless fashion styles, the Jumia collection is always top notch, \\nmeeting all your needs from casual wear to all glammed up.   \"}\n"
     ]
    }
   ],
   "source": [
    "title = bs(req.text, 'html.parser').find(class_=\"-fs20 -pts -pbxs\").text\n",
    "price = bs(req.text, 'html.parser').find(class_=\"-b -ubpt -tal -fs24 -prxs\").text.replace(\"₦\", \"\").replace(\",\", \"\")\n",
    "imageLink = bs(req.text, 'html.parser').find(class_=\"-fw -fh\")['data-src']\n",
    "metadata = bs(req.text, 'html.parser').find_all(\"tr\")\n",
    "all = []\n",
    "def parse_td(td):\n",
    "    if td.text != \"\": return td.text\n",
    "    return [x.text for x in td.find_all(\"li\")]\n",
    "for i in metadata:\n",
    "    data = {}\n",
    "    tab = i.find_all(\"td\")\n",
    "    if len(tab) > 1:\n",
    "        data[tab[0].text] = parse_td(tab[1])\n",
    "        all.append(data)\n",
    "\n",
    "if all == []:\n",
    "    detail = bs(req.text, 'html.parser').find(class_=\"markup -mhm -pvl -oxa -sc\")\n",
    "    ps = detail.children\n",
    "    if ps:\n",
    "        ps = [x.text for x in ps]\n",
    "        all.append({\"Product info\": \" \".join(ps)})\n",
    "    # else:\n",
    "    #     ps = detail.children()\n",
    "    #     ps = [x.text for x in ps]\n",
    "\n",
    "for i in all:\n",
    "    print(i)\n",
    "# met = {}\n",
    "# for i in all:\n",
    "#     for x, y in i.items():\n",
    "#         met[x] = y\n",
    "\n",
    "# print(title)\n",
    "\n",
    "\n"
   ]
  }
 ],
 "metadata": {
  "kernelspec": {
   "display_name": "Python 3",
   "language": "python",
   "name": "python3"
  },
  "language_info": {
   "codemirror_mode": {
    "name": "ipython",
    "version": 3
   },
   "file_extension": ".py",
   "mimetype": "text/x-python",
   "name": "python",
   "nbconvert_exporter": "python",
   "pygments_lexer": "ipython3",
   "version": "3.11.4"
  }
 },
 "nbformat": 4,
 "nbformat_minor": 2
}
