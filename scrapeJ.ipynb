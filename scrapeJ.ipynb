{
 "cells": [
  {
   "cell_type": "code",
   "execution_count": 1,
   "metadata": {},
   "outputs": [],
   "source": [
    "import os\n",
    "import csv\n",
    "import glob\n",
    "from bs4 import BeautifulSoup as bs\n",
    "import requests"
   ]
  },
  {
   "cell_type": "code",
   "execution_count": 67,
   "metadata": {},
   "outputs": [],
   "source": [
    "name = 'jumia_bots'\n",
    "allowed_domains = ['jumia.com.ng']\n",
    "start_urls = ['https://www.jumia.com.ng/nike-air-max-zm950-womens-sneakers-79928181.html']\n",
    "\n"
   ]
  },
  {
   "cell_type": "code",
   "execution_count": 68,
   "metadata": {},
   "outputs": [],
   "source": [
    "req = requests.get(start_urls[0])\n"
   ]
  },
  {
   "cell_type": "code",
   "execution_count": 69,
   "metadata": {},
   "outputs": [
    {
     "name": "stdout",
     "output_type": "stream",
     "text": [
      "{'Product info': \"Nike Air Max ZM950PAYING HOMAGE TO ATTITUDE. \\n Celebrating the 25th anniversary of the Air Max 95, the Nike Air Max ZM950 warps the OG's iconic side panels, adds fully visible Nike Air cushioning and boasts bold, expressive colours—it's untouchable, confident and tough. \\n Benefits \\n \\nThe design, inspired by the Air Max 95 with elements symbolising the human body, now enters a modern space with distorted lines, bold TPU accents and lightweight no-sew skins.\\nThe bold colours mix edginess and fun.\\nNew webbing runs down the sides, adding structure and support while creating a distinctly new look.\\nThe highlighted Air cushioning in the heel is the same as the 270 and combines with\\nZoom Air in the forefoot, adding the perfect amount of flash to your soft, springy ride.\\nThe sleek design nods to the sporty Air Max pantheon while maintaining a boldly fresh and futuristic appearance.\\n \\n  \\n Product Details \\n \\nPadded tongue feels soft and features perforations for added breathability\\nFoam midsole\\nRubber sole\\nPull tab\\nColour Shown: WHITE/MTLC SUMMIT WHT-BARELY VOLT-VOLT-PLATINUM TI\\nStyle: CK7212-100\\nCountry/Region of Origin: Vietnam\\n\"}\n"
     ]
    }
   ],
   "source": [
    "title = bs(req.text, 'html.parser').find(class_=\"-fs20 -pts -pbxs\").text\n",
    "price = bs(req.text, 'html.parser').find(class_=\"-b -ubpt -tal -fs24 -prxs\").text.replace(\"₦\", \"\").replace(\",\", \"\")\n",
    "imageLink = bs(req.text, 'html.parser').find(class_=\"-fw -fh\")['data-src']\n",
    "metadata = bs(req.text, 'html.parser').find_all(\"tr\")\n",
    "all = []\n",
    "def parse_td(td):\n",
    "    if td.text != \"\": return td.text\n",
    "    return [x.text for x in td.find_all(\"li\")]\n",
    "for i in metadata:\n",
    "    data = {}\n",
    "    tab = i.find_all(\"td\")\n",
    "    if len(tab) > 1:\n",
    "        data[tab[0].text] = parse_td(tab[1])\n",
    "        all.append(data)\n",
    "\n",
    "if all == []:\n",
    "    detail = bs(req.text, 'html.parser').find(class_=\"markup -mhm -pvl -oxa -sc\")\n",
    "    ps = detail.children\n",
    "    if ps:\n",
    "        ps = [x.text for x in ps]\n",
    "        all.append({\"Product info\": \" \".join(ps)})\n",
    "    # else:\n",
    "    #     ps = detail.children()\n",
    "    #     ps = [x.text for x in ps]\n",
    "\n",
    "for i in all:\n",
    "    print(i)\n",
    "# met = {}\n",
    "# for i in all:\n",
    "#     for x, y in i.items():\n",
    "#         met[x] = y\n",
    "\n",
    "# print(title)\n",
    "\n",
    "\n"
   ]
  }
 ],
 "metadata": {
  "kernelspec": {
   "display_name": "Python 3",
   "language": "python",
   "name": "python3"
  },
  "language_info": {
   "codemirror_mode": {
    "name": "ipython",
    "version": 3
   },
   "file_extension": ".py",
   "mimetype": "text/x-python",
   "name": "python",
   "nbconvert_exporter": "python",
   "pygments_lexer": "ipython3",
   "version": "3.11.4"
  }
 },
 "nbformat": 4,
 "nbformat_minor": 2
}
